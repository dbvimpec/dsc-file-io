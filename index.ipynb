{
  "cells": [
    {
      "cell_type": "markdown",
      "metadata": {
        "id": "FRbyY60Yshmf"
      },
      "source": [
        "# File Input and Output in Python\n",
        "\n",
        "## Introduction\n",
        "\n",
        "In this lesson, you'll learn about interacting with files in Python. First you'll start by reviewing the core concepts of opening, closing, reading, and writing files, and how this process is similar and different between the familiar GUI software and using Python code. Then you'll walk through some specific examples of reading and writing files with Python, ending with a series of examples using different libraries to open different types of files.\n",
        "\n",
        "## Objectives\n",
        "\n",
        "You will be able to:\n",
        "\n",
        "* Understand the core concepts of file I/O\n",
        "* Read data from files into Python\n",
        "* Write data from Python into files\n",
        "* Describe key file types and how to interact with them in Python"
      ]
    },
    {
      "cell_type": "code",
      "source": [
        "!git clone https://github.com/dbvimpec/dsc-file-io.git"
      ],
      "metadata": {
        "id": "mX6K9E9osqvd",
        "outputId": "6a38a68e-7483-4f60-85e8-2b8d4876be91",
        "colab": {
          "base_uri": "https://localhost:8080/"
        }
      },
      "execution_count": 2,
      "outputs": [
        {
          "output_type": "stream",
          "name": "stdout",
          "text": [
            "fatal: destination path 'dsc-file-io' already exists and is not an empty directory.\n"
          ]
        }
      ]
    },
    {
      "cell_type": "markdown",
      "metadata": {
        "id": "FMGF3u_kshmh"
      },
      "source": [
        "## \"In Memory\" vs. \"On Disk\"\n",
        "\n",
        "You're probably already quite familiar with the general idea of interacting with a computer file system, but let's take a step back and go over some fundamentals.\n",
        "\n",
        "### Data in Memory\n",
        "\n",
        "We have mainly emphasized working with Python variables *in memory*. When something is in memory, that means that it can be easily modified and that it no longer exists once the software using it (in this case, a Python kernel) stops running.\n",
        "\n",
        "For example, take this code snippet:"
      ]
    },
    {
      "cell_type": "code",
      "execution_count": 3,
      "metadata": {
        "id": "ec_dhGuTshmi"
      },
      "outputs": [],
      "source": [
        "x = [5, 6, 7]"
      ]
    },
    {
      "cell_type": "markdown",
      "metadata": {
        "id": "8qG9TVEDshmj"
      },
      "source": [
        "The value of `x` currently exists in memory.\n",
        "\n",
        "The full computer architecture details are more complex, but you can think of this information as being stored using **RAM** (either on your local computer, or in a cloud environment).\n",
        "\n",
        "We can actually look at the address where it was stored:"
      ]
    },
    {
      "cell_type": "code",
      "execution_count": 4,
      "metadata": {
        "id": "XZpoT1KHshmk",
        "outputId": "f3912595-c29c-4cbd-d7c8-1f6e273caefd",
        "colab": {
          "base_uri": "https://localhost:8080/",
          "height": 35
        }
      },
      "outputs": [
        {
          "output_type": "execute_result",
          "data": {
            "text/plain": [
              "'0x7cdd12627940'"
            ],
            "application/vnd.google.colaboratory.intrinsic+json": {
              "type": "string"
            }
          },
          "metadata": {},
          "execution_count": 4
        }
      ],
      "source": [
        "hex(id(x))"
      ]
    },
    {
      "cell_type": "markdown",
      "metadata": {
        "id": "4fZimGWqshml"
      },
      "source": [
        "Then let's say we modify the value of this variable:"
      ]
    },
    {
      "cell_type": "code",
      "execution_count": 5,
      "metadata": {
        "id": "YrSJmTKPshml",
        "outputId": "ba40f611-a384-4a23-bf72-906df04c240a",
        "colab": {
          "base_uri": "https://localhost:8080/"
        }
      },
      "outputs": [
        {
          "output_type": "execute_result",
          "data": {
            "text/plain": [
              "[10, 6, 7]"
            ]
          },
          "metadata": {},
          "execution_count": 5
        }
      ],
      "source": [
        "x[0] = 10\n",
        "x"
      ]
    },
    {
      "cell_type": "markdown",
      "metadata": {
        "id": "E9B_bDykshmm"
      },
      "source": [
        "If we check the address, it hasn't changed:"
      ]
    },
    {
      "cell_type": "code",
      "execution_count": 6,
      "metadata": {
        "id": "NWsAp04Gshmm",
        "outputId": "943af548-9d75-4c23-bad6-7ba899df2ad8",
        "colab": {
          "base_uri": "https://localhost:8080/",
          "height": 35
        }
      },
      "outputs": [
        {
          "output_type": "execute_result",
          "data": {
            "text/plain": [
              "'0x7cdd12627940'"
            ],
            "application/vnd.google.colaboratory.intrinsic+json": {
              "type": "string"
            }
          },
          "metadata": {},
          "execution_count": 6
        }
      ],
      "source": [
        "hex(id(x))"
      ]
    },
    {
      "cell_type": "markdown",
      "metadata": {
        "id": "gUo5sRgVshmm"
      },
      "source": [
        "But that 5 has been completely replaced in memory with a 10. This demonstrates how easy it is to modify something in memory — you don't need to \"write\" or \"save\" explicitly, you can just change the value of the variable.\n",
        "\n",
        "Now, restart the kernel:\n",
        "\n",
        "![kernel menu](https://github.com/dbvimpec/dsc-file-io/blob/master/kernel_menu.png?raw=1)\n",
        "\n",
        "Now, if we try to access `x` again, we get an error message:"
      ]
    },
    {
      "cell_type": "code",
      "execution_count": 7,
      "metadata": {
        "id": "TLAsiJpOshmn",
        "outputId": "e8f5193e-0489-4dec-afa4-a388947e080b",
        "colab": {
          "base_uri": "https://localhost:8080/"
        }
      },
      "outputs": [
        {
          "output_type": "execute_result",
          "data": {
            "text/plain": [
              "[10, 6, 7]"
            ]
          },
          "metadata": {},
          "execution_count": 7
        }
      ],
      "source": [
        "x"
      ]
    },
    {
      "cell_type": "markdown",
      "metadata": {
        "id": "AEpgZvitshmn"
      },
      "source": [
        "This demonstrates how data in memory stops being stored by the computer when the software using it stops.\n",
        "\n",
        "As you can see, variables in memory are flexible and convenient, but they are inherently temporary and short-term. If we restart the kernel or restart the computer, we lose access to that data, which is not a good solution for retaining anything important. If we want something to be stored regardless of whether our kernel is still running, we want to use a file on disk."
      ]
    },
    {
      "cell_type": "markdown",
      "metadata": {
        "id": "Q_OTvID-shmn"
      },
      "source": [
        "### Files on Disk\n",
        "\n",
        "In contrast to data in memory, files *on disk* are stored more permanently.\n",
        "\n",
        "We can view a list of files in the current directory using the bash command `ls`:"
      ]
    },
    {
      "cell_type": "code",
      "execution_count": 8,
      "metadata": {
        "id": "fOdZ9a-ushmn",
        "outputId": "3863e81e-d07c-4b02-aa6d-9a47544d09bf",
        "colab": {
          "base_uri": "https://localhost:8080/"
        }
      },
      "outputs": [
        {
          "output_type": "stream",
          "name": "stdout",
          "text": [
            "dsc-file-io  sample_data\n"
          ]
        }
      ],
      "source": [
        "! ls"
      ]
    },
    {
      "cell_type": "markdown",
      "metadata": {
        "id": "xWcDqVB6shmo"
      },
      "source": [
        "Again this is a bit of a simplification, but you can think of this information as being stored on the **hard drive** of the computer (local or cloud), whereas objects in memory are stored in RAM.\n",
        "\n",
        "If we restart the kernel or restart the entire computer, those files will still be there, unchanged.\n",
        "\n",
        "Therefore we can use files on disk, as opposed to objects in memory, to store anything that needs to persist long-term."
      ]
    },
    {
      "cell_type": "markdown",
      "metadata": {
        "id": "n_ps5ksKshmo"
      },
      "source": [
        "## File I/O\n",
        "\n",
        "Interacting with files on disk with Python is somewhat more complex than interacting with Python variables in memory. It is a form of [I/O](https://en.wikipedia.org/wiki/Input/output) — meaning \"input/output\" — which means that we need to incorporate the ideas of:\n",
        "\n",
        "1. **Opening** and **closing** files\n",
        "2. **Reading from** and **writing to** files\n",
        "\n",
        "### Opening and Closing Files\n",
        "\n",
        "You are already familiar with the general idea of opening files using software, either through a GUI or the command line. For example, in order to open a Microsoft Word document, you would probably navigate through the file system GUI and double-click on a file with a `.docx` extension. Or in order to launch a Jupyter notebook, you would navigate through the file system via the command line and then execute `jupyter notebook` in order to open a file with a `.ipynb` extension.\n",
        "\n",
        "The generalized steps you are taking are:\n",
        "\n",
        "1. Locating the file\n",
        "2. Opening the file using appropriate software\n",
        "3. Reading and/or editing contents of the file\n",
        "4. Closing the file\n",
        "\n",
        "Those same steps apply when using Python to interact with files.\n",
        "\n",
        "#### 1. Locating the File\n",
        "\n",
        "In order to open a file with Python, you need to know the *path* to the file. By default this path is relative to the path you are running the Python code from.\n",
        "\n",
        "Let's look at the files in the current directory again:"
      ]
    },
    {
      "cell_type": "code",
      "execution_count": 9,
      "metadata": {
        "id": "anVyG7ncshmo",
        "outputId": "3cbef18c-aa02-472d-f036-85ff06696eaf",
        "colab": {
          "base_uri": "https://localhost:8080/"
        }
      },
      "outputs": [
        {
          "output_type": "stream",
          "name": "stdout",
          "text": [
            "dsc-file-io  sample_data\n"
          ]
        }
      ],
      "source": [
        "! ls"
      ]
    },
    {
      "cell_type": "markdown",
      "metadata": {
        "id": "NWZhCV9Cshmo"
      },
      "source": [
        "Say we want to open `zen_of_python.txt`. It is located in the same directory that this Python code is running from, so the relative file path is simply `zen_of_python.txt`."
      ]
    },
    {
      "cell_type": "code",
      "execution_count": 12,
      "metadata": {
        "id": "NEd2-8RMshmp"
      },
      "outputs": [],
      "source": [
        "file_path = \"dsc-file-io/zen_of_python.txt\""
      ]
    },
    {
      "cell_type": "markdown",
      "metadata": {
        "id": "i7wEEuAwshmp"
      },
      "source": [
        "The paths work the same as paths on your computer's operating system. So, for example, if you were running this on a Mac computer and the file was located in a subdirectory called `files`, then the path would be `files/zen_of_python.txt`. Or if the file was located in the directory above the current one, then the path would be `../zen_of_python.txt`. While we won't get into the details here, the Python `os` module ([documentation here](https://docs.python.org/3/library/os.html)) is helpful if you need to write code that will be compatible with multiple different operating systems or if you need the absolute path to a file rather than the relative path."
      ]
    },
    {
      "cell_type": "markdown",
      "metadata": {
        "id": "SQUNPEN3shmp"
      },
      "source": [
        "#### 2. Opening the File Using Appropriate Software\n",
        "\n",
        "Just like a `.docx` file needs to be opened with software like Microsoft Word, and a `.ipynb` file needs to be opened with software like Jupyter Notebook, you need to make sure you are opening and reading files with Python using the appropriate configuration.\n",
        "\n",
        "Fortunately a plain text file is quite simple, and does not require any additional libraries or parameters to open it. (We will get into some examples of how to open more-complex files later.) All we need to do is use the `open` built-in function:"
      ]
    },
    {
      "cell_type": "code",
      "execution_count": 13,
      "metadata": {
        "id": "DsRuHwb4shmp"
      },
      "outputs": [],
      "source": [
        "file_obj = open(file_path)"
      ]
    },
    {
      "cell_type": "markdown",
      "metadata": {
        "id": "5Uiwt65Sshmp"
      },
      "source": [
        "Ok, we opened the file! What do we have now?"
      ]
    },
    {
      "cell_type": "code",
      "execution_count": null,
      "metadata": {
        "id": "oR2kj0ytshmp"
      },
      "outputs": [],
      "source": [
        "type(file_obj)"
      ]
    },
    {
      "cell_type": "markdown",
      "metadata": {
        "id": "Mef0y6jZshmq"
      },
      "source": [
        "As you can see, we have an object with \"IO\" in the name, and it is treating the opened file as containing \"text\" because we didn't specify any additional parameters. Note that this is **not** because of the file extension (`.txt`) — Python does not automatically do anything with the file based on the file extension, and the behavior so far would be the same if we had specified a path ending with `.png` instead.\n",
        "\n",
        "Can we just print the contents of the file now?"
      ]
    },
    {
      "cell_type": "code",
      "execution_count": null,
      "metadata": {
        "id": "wv3Z-VLyshmq"
      },
      "outputs": [],
      "source": [
        "print(file_obj)"
      ]
    },
    {
      "cell_type": "markdown",
      "metadata": {
        "id": "hkioIraJshmq"
      },
      "source": [
        "Not exactly. We have *opened* the file, but if we want to get its contents, that is a separate step of *reading* from the file."
      ]
    },
    {
      "cell_type": "markdown",
      "metadata": {
        "id": "WU0QQEbGshmq"
      },
      "source": [
        "#### 3. Reading and/or Editing Contents of the File\n",
        "\n",
        "This is possibly the most confusing part of working with files in Python compared to the software we are used to using. With Microsoft Word, for example, opening a file and reading the contents of a file are all part of the same step. However in Python, opening and reading are separate.\n",
        "\n",
        "One reason for this is that computers typically have significantly more space in the hard drive than the RAM. Even without getting into true \"big data\" that requires special tooling, we might have a file stored on the hard drive that contains multiple gigabytes of data, but only 1 gigabyte of available RAM space. With Python file I/O, you could separate the processing of that file into chunks — only reading in, say, 100 lines at a time — so that you never exceed the available RAM.\n",
        "\n",
        "Since this file is fairly small, we will go ahead and read all of the contents at once into memory, using the `readlines()` method."
      ]
    },
    {
      "cell_type": "code",
      "execution_count": null,
      "metadata": {
        "id": "PQkaIWhrshmq"
      },
      "outputs": [],
      "source": [
        "file_contents = file_obj.readlines()"
      ]
    },
    {
      "cell_type": "markdown",
      "metadata": {
        "id": "8ahLnvXrshmq"
      },
      "source": [
        "Now what do we have?"
      ]
    },
    {
      "cell_type": "code",
      "execution_count": null,
      "metadata": {
        "id": "m8i6jZrtshmr"
      },
      "outputs": [],
      "source": [
        "type(file_contents)"
      ]
    },
    {
      "cell_type": "markdown",
      "metadata": {
        "id": "P-Fhq1BZshmr"
      },
      "source": [
        "And what is in that list?"
      ]
    },
    {
      "cell_type": "code",
      "execution_count": null,
      "metadata": {
        "id": "a71AS7Nmshmr"
      },
      "outputs": [],
      "source": [
        "file_contents[0]"
      ]
    },
    {
      "cell_type": "markdown",
      "metadata": {
        "id": "wBnB5Br6shmr"
      },
      "source": [
        "We can treat this like any other list of strings."
      ]
    },
    {
      "cell_type": "code",
      "execution_count": null,
      "metadata": {
        "id": "P21IbgSeshms"
      },
      "outputs": [],
      "source": [
        "for line in file_contents:\n",
        "    print(\n",
        "        line, end=\"\"\n",
        "    )  # end=\"\" to avoid double-spacing since strings already end with \\n"
      ]
    },
    {
      "cell_type": "markdown",
      "metadata": {
        "id": "rcCFxr0cshms"
      },
      "source": [
        "Great! Now we have taken data stored in a file on disk and loaded it into a Python object in memory!\n",
        "\n",
        "Note that if we try to read from the same file again, we will not get any content:"
      ]
    },
    {
      "cell_type": "code",
      "execution_count": null,
      "metadata": {
        "id": "IvHv6f-oshms"
      },
      "outputs": [],
      "source": [
        "file_obj.readlines()"
      ]
    },
    {
      "cell_type": "markdown",
      "metadata": {
        "id": "qPkzf-Wwshms"
      },
      "source": [
        "This is because the Python file interface is kind of like a physical piece of media (e.g. a music CD) — it reads once from the beginning to the end, and then the content is over. If, for some reason, you need to read from the same file again, you can use the `.seek` method ([documentation here](https://docs.python.org/3/library/io.html#io.IOBase.seek)) to go back to the beginning, but in general your code will be faster and more efficient if you structure the logic so that you only read through the file once."
      ]
    },
    {
      "cell_type": "markdown",
      "metadata": {
        "id": "LXsXwdP-shms"
      },
      "source": [
        "#### 4. Closing the File\n",
        "\n",
        "Once you are finished reading from the file, close it using the `.close` method:"
      ]
    },
    {
      "cell_type": "code",
      "execution_count": null,
      "metadata": {
        "id": "unb97MiHshmy"
      },
      "outputs": [],
      "source": [
        "file_obj.close()"
      ]
    },
    {
      "cell_type": "markdown",
      "metadata": {
        "id": "kS_Szg2Wshmy"
      },
      "source": [
        "This means that your Python code is fully disconnected from the file. If you try to read from the file object again, you will get an error message:"
      ]
    },
    {
      "cell_type": "code",
      "execution_count": null,
      "metadata": {
        "id": "qxC3B4AVshmy"
      },
      "outputs": [],
      "source": [
        "file_obj.readlines()"
      ]
    },
    {
      "cell_type": "markdown",
      "metadata": {
        "id": "HGO0nqfxshmz"
      },
      "source": [
        "Once the file is closed, you can go on to analyze the data using Python. For example, if we wanted to count how many lines of that document contain the phrase \"is better than\", we might do something like this:"
      ]
    },
    {
      "cell_type": "code",
      "execution_count": null,
      "metadata": {
        "id": "CXSWhmO0shmz"
      },
      "outputs": [],
      "source": [
        "is_better_than_count = 0\n",
        "for line in file_contents:\n",
        "    if \"is better than\" in line:\n",
        "        is_better_than_count += 1\n",
        "\n",
        "print(\"The phrase 'is better than' appears\", is_better_than_count, \"times\")"
      ]
    },
    {
      "cell_type": "markdown",
      "metadata": {
        "id": "Gkmf5MrTshmz"
      },
      "source": [
        "#### Shortened Syntax Using `with`\n",
        "\n",
        "The file objects created by the `open` function are \"context managers\" meaning they support a compound statement called `with` ([documentation here](https://docs.python.org/3/reference/compound_stmts.html#with)).\n",
        "\n",
        "When you use `with open` to start a block, the file object will automatically close at the end of that block. So we could re-write the previous steps.\n",
        "\n",
        "From this:"
      ]
    },
    {
      "cell_type": "code",
      "execution_count": null,
      "metadata": {
        "id": "tQGASmiCshmz"
      },
      "outputs": [],
      "source": [
        "file_obj = open(file_path)\n",
        "file_contents = file_obj.readlines()\n",
        "file_obj.close()"
      ]
    },
    {
      "cell_type": "markdown",
      "metadata": {
        "id": "LVIXHj0hshm0"
      },
      "source": [
        "To this:"
      ]
    },
    {
      "cell_type": "code",
      "execution_count": null,
      "metadata": {
        "id": "RNDjdpsdshm0"
      },
      "outputs": [],
      "source": [
        "with open(file_path) as file_obj:\n",
        "    file_contents = file_obj.readlines()"
      ]
    },
    {
      "cell_type": "markdown",
      "metadata": {
        "id": "b5Pn6Kd9shm0"
      },
      "source": [
        "You'll see both forms going forward, depending on the overall structure of the code."
      ]
    },
    {
      "cell_type": "markdown",
      "metadata": {
        "id": "TOf0yockshm0"
      },
      "source": [
        "### Reading from and Writing to Files\n",
        "\n",
        "#### Additional Reading Examples\n",
        "\n",
        "In the previous example, we used the `.readlines()` method to read all of the lines of the file into a list of strings. Depending on the task, you might want to use a different reading method.\n",
        "\n",
        "* `.read()` will read the entire contents into a single string, or `.read(size)` will read up to `size` number of characters into a single string\n",
        "* `.readline()` will read just one line of the file into a string\n",
        "\n",
        "#### Writing to Files\n",
        "\n",
        "If you have some information in memory in Python and you want to store it to a file on disk, you need to write to a file. Unlike with something like a `.ipynb` file + Jupyter Notebook, there isn't a concept like \"editing\" where you are viewing and changing the contents of a file all at once. Instead, you are either reading from a file or writing to a file.\n",
        "\n",
        "One typical pattern is to read from one \"raw\" file, and write to another \"cleaned\" file. Let's take that `zen_of_python.txt` file and make a \"cleaned\" version where all of the words have been converted to lowercase, and all of the punctuation has been stripped.\n",
        "\n",
        "The process for reading the data has already been completed, and each line is stored in the variable `file_contents`:"
      ]
    },
    {
      "cell_type": "code",
      "execution_count": null,
      "metadata": {
        "id": "fgRTY6lNshm0"
      },
      "outputs": [],
      "source": [
        "file_contents"
      ]
    },
    {
      "cell_type": "markdown",
      "metadata": {
        "id": "pYnkrw49shm1"
      },
      "source": [
        "Then this code will create a cleaned version:"
      ]
    },
    {
      "cell_type": "code",
      "execution_count": null,
      "metadata": {
        "id": "Cqnu2seJshm1"
      },
      "outputs": [],
      "source": [
        "import string\n",
        "\n",
        "file_contents_cleaned = []\n",
        "for line in file_contents:\n",
        "    words = line.split()\n",
        "    cleaned_words = [word.strip(string.punctuation).lower() for word in words]\n",
        "    cleaned_line = \" \".join(cleaned_words) + \"\\n\"\n",
        "    file_contents_cleaned.append(cleaned_line)\n",
        "file_contents_cleaned"
      ]
    },
    {
      "cell_type": "markdown",
      "metadata": {
        "id": "m83jhjn3shm1"
      },
      "source": [
        "Let's say we want to write this result to a new file called `zen_of_python_cleaned.txt`. If we check using `ls`, this file currently doesn't exist:"
      ]
    },
    {
      "cell_type": "code",
      "execution_count": null,
      "metadata": {
        "id": "Aw6GJa2Jshm1"
      },
      "outputs": [],
      "source": [
        "! ls"
      ]
    },
    {
      "cell_type": "markdown",
      "metadata": {
        "id": "p5yPKs5Hshm1"
      },
      "source": [
        "If we want to store the result in a file, first we need to open it. To open a file **for writing** we need to specify an additional parameter, `mode`. We set this to `\"w\"`, for \"write\".\n",
        "\n",
        "Conveniently, if we are in write mode and we specify the path of a file that doesn't currently exist, the file will automatically be created."
      ]
    },
    {
      "cell_type": "code",
      "execution_count": null,
      "metadata": {
        "id": "DWm5MRXZshm2"
      },
      "outputs": [],
      "source": [
        "output_file_obj = open(\"zen_of_python_cleaned.txt\", mode=\"w\")"
      ]
    },
    {
      "cell_type": "markdown",
      "metadata": {
        "id": "pTvYNC_rshm2"
      },
      "source": [
        "Now if we check, there is an empty file with the specified name:"
      ]
    },
    {
      "cell_type": "code",
      "execution_count": null,
      "metadata": {
        "id": "Htm-5h7Ushm2"
      },
      "outputs": [],
      "source": [
        "! ls"
      ]
    },
    {
      "cell_type": "markdown",
      "metadata": {
        "id": "IJHNKj3Vshm2"
      },
      "source": [
        "Next, let's loop over our cleaned text and write it to the new file object using the `.write` method:"
      ]
    },
    {
      "cell_type": "code",
      "execution_count": null,
      "metadata": {
        "id": "tV2mYvLgshm3"
      },
      "outputs": [],
      "source": [
        "for line in file_contents_cleaned:\n",
        "    output_file_obj.write(line)"
      ]
    },
    {
      "cell_type": "markdown",
      "metadata": {
        "id": "uMjFJtP1shm3"
      },
      "source": [
        "It is important to note that this data is currently still stored *only* in memory. It has been written to `output_file_obj`, which is a Python object, but there is a buffer between data being written to the file object and data being written to the actual file on disk.\n",
        "\n",
        "We can see this if we use the `-s` argument with the `ls` command, which shows that the size of `zen_of_python_cleaned.txt` is still zero:"
      ]
    },
    {
      "cell_type": "code",
      "execution_count": null,
      "metadata": {
        "id": "yD8jp8tRshm3"
      },
      "outputs": [],
      "source": [
        "! ls -s"
      ]
    },
    {
      "cell_type": "markdown",
      "metadata": {
        "id": "b7e9AlwSshm4"
      },
      "source": [
        "In order to ensure that the data is actually written to the file on disk, we need to close the file object."
      ]
    },
    {
      "cell_type": "code",
      "execution_count": null,
      "metadata": {
        "id": "9HN-dgYgshm4"
      },
      "outputs": [],
      "source": [
        "output_file_obj.close()"
      ]
    },
    {
      "cell_type": "markdown",
      "metadata": {
        "id": "6nNwPXIWshm4"
      },
      "source": [
        "Now `zen_of_python_cleaned.txt` is no longer empty, and is approximately the same size as the original raw data:"
      ]
    },
    {
      "cell_type": "code",
      "execution_count": null,
      "metadata": {
        "id": "l8GnzFjqshm4"
      },
      "outputs": [],
      "source": [
        "! ls -s"
      ]
    },
    {
      "cell_type": "markdown",
      "metadata": {
        "id": "-63exsEzshm5"
      },
      "source": [
        "**If you are ever wondering why your data has not actually been saved to a file, double-check that the file has been closed, or that the buffer has been cleared in some other way.** It is a best practice to close files when you are finished with them whether the files are used for reading or writing, but writing is where failing to close a file can cause more significant problems.\n",
        "\n",
        "Some of the tools we will introduce later will handle the file opening/closing for you, but sometimes it's important to understand what is happening \"under the hood\" in order to debug issues like this."
      ]
    },
    {
      "cell_type": "markdown",
      "metadata": {
        "id": "w8BhfHiPshm5"
      },
      "source": [
        "## Dealing with Different File Types\n",
        "\n",
        "The examples so far have used files containing text data, which is straightforward to use in Python because it neatly corresponds to the string data type. For more-complex file types, we will often need to use additional modules or libraries.\n",
        "\n",
        "Here is a high-level overview of how you might open various file types with Python. For now we will only look at reading this data, but there is almost always a corresponding technique with that library to write to that type of file, just like we have both `.read` and `.write` with the built-in Python file objects.\n",
        "\n",
        "### Tabular Data Files\n",
        "\n",
        "Tabular data means data that can be represented as a table of rows and columns. Some common ways that tabular data is stored include CSV (`.csv`) and Excel (`.xls` or `.xlsx`) files.\n",
        "\n",
        "#### CSV\n",
        "\n",
        "If we open a CSV file as though it were just a text file, it would look something like this:"
      ]
    },
    {
      "cell_type": "code",
      "execution_count": null,
      "metadata": {
        "id": "pJpqFW2Zshm5"
      },
      "outputs": [],
      "source": [
        "with open(\"food_prices.csv\") as f:\n",
        "    print(f.readline())\n",
        "    print(f.readline())\n",
        "    print(f.readline())"
      ]
    },
    {
      "cell_type": "markdown",
      "metadata": {
        "id": "IZeFFo1qshm6"
      },
      "source": [
        "Just like with `zen_of_python.txt`, we have successfully read in the data as a collection of strings.\n",
        "\n",
        "In theory we could try to parse the relevant information from that using string processing, but a better technique would be to use the `csv` module, which is designed to work with this type of file:"
      ]
    },
    {
      "cell_type": "code",
      "execution_count": null,
      "metadata": {
        "id": "EyBC6DZkshm6"
      },
      "outputs": [],
      "source": [
        "import csv\n",
        "\n",
        "with open(\"food_prices.csv\") as f:\n",
        "    reader = csv.DictReader(f)\n",
        "    print(next(reader))\n",
        "    print(next(reader))"
      ]
    },
    {
      "cell_type": "markdown",
      "metadata": {
        "id": "0HWMPLdVshm6"
      },
      "source": [
        "That way, we are converting the table of data into a dictionary representing each row, instead of treating each line as a string.\n",
        "\n",
        "#### Excel\n",
        "\n",
        "If we open an Excel spreadsheet file as though it were just a text file, it would look something like this:"
      ]
    },
    {
      "cell_type": "code",
      "execution_count": null,
      "metadata": {
        "id": "l5Pq7MB7shm7"
      },
      "outputs": [],
      "source": [
        "with open(\"cities.xls\", mode=\"rb\") as f:\n",
        "    print(f.read(500))"
      ]
    },
    {
      "cell_type": "markdown",
      "metadata": {
        "id": "iZDrVSTXshm7"
      },
      "source": [
        "That is even further from something that we can meaningfully parse! All of the `\\x` encoding means that this is data is not text, it is binary data encoded as bytes.\n",
        "\n",
        "Again, there is a library called XLRD we can use to bring this into Python in a more useful way:"
      ]
    },
    {
      "cell_type": "code",
      "execution_count": null,
      "metadata": {
        "id": "wbCrPQVbshm7"
      },
      "outputs": [],
      "source": [
        "! pip install xlrd"
      ]
    },
    {
      "cell_type": "code",
      "execution_count": null,
      "metadata": {
        "id": "tGfK-kZmshm7"
      },
      "outputs": [],
      "source": [
        "import xlrd\n",
        "\n",
        "book = xlrd.open_workbook(\"cities.xls\")\n",
        "sheet = book.sheet_by_name(\"Sheet1\")\n",
        "columns = [sheet.cell_value(0, col) for col in range(sheet.ncols)]\n",
        "\n",
        "for row in range(1, 4):\n",
        "    row_dict = {}\n",
        "    for col_index, col_value in enumerate(columns):\n",
        "        row_dict[col_value] = sheet.cell_value(row, col_index)\n",
        "    print(row_dict)"
      ]
    },
    {
      "cell_type": "markdown",
      "metadata": {
        "id": "lU8BOQ7Lshm8"
      },
      "source": [
        "(Don't worry too much about the details of this example, but note that this is a library that opens and closes the file for us, so you don't need to use `.open` or `.close`, we just need to specify the path to the file.)"
      ]
    },
    {
      "cell_type": "markdown",
      "metadata": {
        "id": "zXquzhosshm8"
      },
      "source": [
        "### Other Data Files\n",
        "\n",
        "Sometimes data is stored in a structured but non-tabular format. These formats include JSON (`.json`), XML (`.xml`), Apache Parquet (`.parquet`), and pickle (`.pkl`). We'll review each briefly.\n",
        "\n",
        "#### JSON\n",
        "\n",
        "JSON files are structured similarly to dictionaries, and can contain nested data. The `json` module allows you to load them into memory using Python data types (in this case, a dictionary).\n",
        "\n",
        "The raw file looks like this:\n",
        "\n",
        "```\n",
        "{\n",
        "\t\"name\": \"Leia Organa\",\n",
        "\t\"height\": \"150\",\n",
        "\t\"mass\": \"49\",\n",
        "\t\"hair_color\": \"brown\",\n",
        "\t\"skin_color\": \"light\",\n",
        "\t\"eye_color\": \"brown\",\n",
        "\t\"birth_year\": \"19BBY\",\n",
        "\t\"gender\": \"female\",\n",
        "\t\"homeworld\": \"http://swapi.dev/api/planets/2/\",\n",
        "\t\"films\": [\n",
        "\t\t\"http://swapi.dev/api/films/1/\",\n",
        "\t\t\"http://swapi.dev/api/films/2/\",\n",
        "\t\t\"http://swapi.dev/api/films/3/\",\n",
        "\t\t\"http://swapi.dev/api/films/6/\"\n",
        "\t],\n",
        "\t\"species\": [],\n",
        "\t\"vehicles\": [\n",
        "\t\t\"http://swapi.dev/api/vehicles/30/\"\n",
        "\t],\n",
        "\t\"starships\": [],\n",
        "\t\"created\": \"2014-12-10T15:20:09.791000Z\",\n",
        "\t\"edited\": \"2014-12-20T21:17:50.315000Z\",\n",
        "\t\"url\": \"http://swapi.dev/api/people/5/\"\n",
        "}\n",
        "```\n",
        "\n",
        "Opening it in Python looks like this:"
      ]
    },
    {
      "cell_type": "code",
      "execution_count": null,
      "metadata": {
        "id": "DnYUY-Eashm8"
      },
      "outputs": [],
      "source": [
        "import json\n",
        "\n",
        "with open(\"leia.json\") as f:\n",
        "    leia_data = json.load(f)\n",
        "leia_data"
      ]
    },
    {
      "cell_type": "markdown",
      "metadata": {
        "id": "fpM1zb--shm9"
      },
      "source": [
        "#### XML\n",
        "\n",
        "XML also works with nested data. Here we have the same data about Leia Organa in XML format. The raw file looks like this:\n",
        "\n",
        "```\n",
        "<?xml version=\"1.0\"?>\n",
        "<person>\n",
        "  <name>Leia Organa</name>\n",
        "  <height>150</height>\n",
        "  <mass>49</mass>\n",
        "  <hair_color>brown</hair_color>\n",
        "  <skin_color>light</skin_color>\n",
        "  <eye_color>brown</eye_color>\n",
        "  <birth_year>19BBY</birth_year>\n",
        "  <gender>female</gender>\n",
        "  <homeworld>http://swapi.dev/api/planets/2/</homeworld>\n",
        "  <films>\n",
        "    <film>http://swapi.dev/api/films/1/</film>\n",
        "    <film>http://swapi.dev/api/films/2/</film>\n",
        "    <film>http://swapi.dev/api/films/3/</film>\n",
        "    <film>http://swapi.dev/api/films/6/</film>\n",
        "  </films>\n",
        "  <species />\n",
        "  <vehicles>\n",
        "    <vehicle>http://swapi.dev/api/vehicles/30/</vehicle>\n",
        "  </vehicles>\n",
        "  <starships />\n",
        "  <created>2014-12-10T15:20:09.791000Z</created>\n",
        "  <edited>2014-12-20T21:17:50.315000Z</edited>\n",
        "  <url>http://swapi.dev/api/people/5/</url>\n",
        "</person>\n",
        "```\n",
        "\n",
        "Opening it in Python looks like this:"
      ]
    },
    {
      "cell_type": "code",
      "execution_count": null,
      "metadata": {
        "id": "W7SB_--Zshm9"
      },
      "outputs": [],
      "source": [
        "import xml.etree.ElementTree as ET\n",
        "\n",
        "tree = ET.parse(\"leia.xml\")\n",
        "root = tree.getroot()\n",
        "print(\"Tree:\", tree)\n",
        "print(\"Root:\", root)\n",
        "print(\"Child nodes:\")\n",
        "\n",
        "for child in root:\n",
        "    if len(list(child)) > 0:\n",
        "        print(child.tag, \"| [\", child[0], \"... ]\")\n",
        "    elif child.text:\n",
        "        print(child.tag, \"|\", child.text)"
      ]
    },
    {
      "cell_type": "markdown",
      "metadata": {
        "id": "L6MmEfMAshm9"
      },
      "source": [
        "#### Apache Parquet\n",
        "\n",
        "Apache Parquet is a format designed for *columnar* data rather than data stored by row as it is in a traditional tabular format. This format is most often used for big data.  See documentation [here](https://arrow.apache.org/docs/python/parquet.html). For example, say we have this dataset:\n",
        "\n",
        "| color  | number |\n",
        "| ------ | ------ |\n",
        "| green  | 7      |\n",
        "| red    | 2      |\n",
        "| orange | 1      |\n",
        "\n",
        "Loading just the `color` column of that dataset from a parquet file would look like this:"
      ]
    },
    {
      "cell_type": "code",
      "execution_count": null,
      "metadata": {
        "id": "PAQ28w1Pshm-"
      },
      "outputs": [],
      "source": [
        "import pyarrow.parquet as pq\n",
        "\n",
        "table = pq.read_table(\"colors_and_numbers.parquet\", columns=[\"color\"])\n",
        "table[\"color\"]"
      ]
    },
    {
      "cell_type": "markdown",
      "metadata": {
        "id": "RMa9pr-Vshm-"
      },
      "source": [
        "#### Pickle\n",
        "\n",
        "Pickle allows you to serialize Python objects even if they are not simple data structures like lists and dictionaries. See documentation [here](https://docs.python.org/3/library/pickle.html). For example, you could create a Matplotlib figure, save it to a pickle file, load the figure, then customize its appearance:"
      ]
    },
    {
      "cell_type": "code",
      "execution_count": null,
      "metadata": {
        "id": "JW4SOJ1gshm-"
      },
      "outputs": [],
      "source": [
        "import pickle\n",
        "import matplotlib.pyplot as plt\n",
        "import numpy as np\n",
        "\n",
        "x = np.random.rand(15)\n",
        "y = np.random.rand(15)\n",
        "\n",
        "fig, axes = plt.subplots()\n",
        "axes.set_xlabel(\"X Label That Was Set Before Pickling\")\n",
        "axes.scatter(x, y)\n",
        "\n",
        "pickle.dump(fig, open(\"plot.pkl\", \"wb\"))\n",
        "\n",
        "plt.close(\"all\")"
      ]
    },
    {
      "cell_type": "code",
      "execution_count": null,
      "metadata": {
        "id": "dL0-Okahshm-"
      },
      "outputs": [],
      "source": [
        "with open(\"plot.pkl\", \"rb\") as f:\n",
        "    fig = pickle.load(f)\n",
        "    ax = fig.gca()\n",
        "    ax.set_ylabel(\"Y Label That Was Set Later\")"
      ]
    },
    {
      "cell_type": "markdown",
      "metadata": {
        "id": "2k1Z8f78shm_"
      },
      "source": [
        "#### IMPORTANT SECURITY NOTE\n",
        "\n",
        "Both XML and pickle formats are **not secure** — if you open an XML or pickle file, you are essentially allowing the author of that file to execute code on your computer.\n",
        "\n",
        "You want to be sure that you trust the origin of the XML or pickle file, and you should avoid opening random files found online.\n",
        "\n",
        "The other file formats shown here are much more secure and have more built-in protections against malicious content."
      ]
    },
    {
      "cell_type": "markdown",
      "metadata": {
        "id": "Aa-3otInshm_"
      },
      "source": [
        "### Images\n",
        "\n",
        "As you might expect, if we open an image like a text file and view its raw contents, we'll see mostly unintelligible byte code.\n",
        "\n",
        "For example, let's look at this file from the Wikimedia Commons, which is also saved in this directory as `dog.jpg`.\n",
        "\n",
        "<a title=\"Druidk9, CC BY-SA 3.0 &lt;https://creativecommons.org/licenses/by-sa/3.0&gt;, via Wikimedia Commons\" href=\"https://commons.wikimedia.org/wiki/File:Labrador_Chocolate.jpg\"><img width=\"128\" alt=\"Labrador Chocolate\" src=\"https://upload.wikimedia.org/wikipedia/commons/7/7d/Labrador_Chocolate.jpg\"></a>"
      ]
    },
    {
      "cell_type": "code",
      "execution_count": null,
      "metadata": {
        "id": "iiCAz3t2shm_"
      },
      "outputs": [],
      "source": [
        "with open(\"dog.jpg\", mode=\"rb\") as f:\n",
        "    print(f.read(500))"
      ]
    },
    {
      "cell_type": "markdown",
      "metadata": {
        "id": "B1Cbi6SVshm_"
      },
      "source": [
        "The library you use to open an image file depends on what you want to do with it. For example, if you want to use it as the background of a graph, you could do that with Matplotlib:"
      ]
    },
    {
      "cell_type": "code",
      "execution_count": null,
      "metadata": {
        "id": "q25WTDSWshm_"
      },
      "outputs": [],
      "source": [
        "image = plt.imread(\"dog.jpg\")\n",
        "fig, ax = plt.subplots()\n",
        "ax.imshow(image, alpha=0.5)\n",
        "ax.plot(range(10, 130, 10), range(60, 84, 2))\n",
        "ax.plot(range(10, 130, 10), range(100, 16, -7), \"k--\");"
      ]
    },
    {
      "cell_type": "markdown",
      "metadata": {
        "id": "zt1-XXkUshnA"
      },
      "source": [
        "If you want to manipulate the image in some way, you could use an image-specific library like Pillow ([documentation here](https://pillow.readthedocs.io/en/stable/handbook/tutorial.html)):"
      ]
    },
    {
      "cell_type": "code",
      "execution_count": null,
      "metadata": {
        "id": "EdSaj0LRshnA"
      },
      "outputs": [],
      "source": [
        "from PIL import Image\n",
        "\n",
        "image = Image.open(\"dog.jpg\")\n",
        "display(image)"
      ]
    },
    {
      "cell_type": "code",
      "execution_count": null,
      "metadata": {
        "id": "bbmkOqX9shnA"
      },
      "outputs": [],
      "source": [
        "# Rotate 90 degrees\n",
        "image_rotated = image.transpose(Image.ROTATE_90)\n",
        "display(image_rotated)"
      ]
    },
    {
      "cell_type": "code",
      "execution_count": null,
      "metadata": {
        "id": "-MkbfWNpshnA"
      },
      "outputs": [],
      "source": [
        "# Convert to simplified black and white\n",
        "image_bw = image.convert(\"1\")\n",
        "display(image_bw)"
      ]
    },
    {
      "cell_type": "code",
      "execution_count": null,
      "metadata": {
        "id": "HeEUjCV-shnB"
      },
      "outputs": [],
      "source": [
        "# Crop\n",
        "image_cropped = image.crop((4, 5, 61, 55))\n",
        "display(image_cropped)"
      ]
    },
    {
      "cell_type": "markdown",
      "metadata": {
        "id": "OnPeN9gIshnB"
      },
      "source": [
        "There are also libraries with functionality specifically designed for feeding images into machine learning models, such as [Keras](https://keras.io/api/preprocessing/image/)."
      ]
    },
    {
      "cell_type": "markdown",
      "metadata": {
        "id": "s1mVnYGVshnB"
      },
      "source": [
        "## Summary\n",
        "\n",
        "As a data scientist, file input and output is a key way for your code to interact with various kinds of data and to save your work \"on disk\". In this lesson we walked through the underlying concepts needed to work with files in Python, and provided examples of opening numerous file types with various libraries."
      ]
    },
    {
      "cell_type": "code",
      "execution_count": null,
      "metadata": {
        "id": "zo4PJ96_shnB"
      },
      "outputs": [],
      "source": []
    }
  ],
  "metadata": {
    "kernelspec": {
      "display_name": "Python (learn-env)",
      "language": "python",
      "name": "learn-env"
    },
    "language_info": {
      "codemirror_mode": {
        "name": "ipython",
        "version": 3
      },
      "file_extension": ".py",
      "mimetype": "text/x-python",
      "name": "python",
      "nbconvert_exporter": "python",
      "pygments_lexer": "ipython3",
      "version": "3.8.5"
    },
    "colab": {
      "provenance": []
    }
  },
  "nbformat": 4,
  "nbformat_minor": 0
}